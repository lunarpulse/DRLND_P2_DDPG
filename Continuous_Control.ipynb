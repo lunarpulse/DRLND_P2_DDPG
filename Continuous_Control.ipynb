{
 "cells": [
  {
   "cell_type": "markdown",
   "metadata": {},
   "source": [
    "# Continuous Control\n",
    "\n",
    "---\n",
    "\n",
    "In this notebook, you will learn how to use the Unity ML-Agents environment for the second project of the [Deep Reinforcement Learning Nanodegree](https://www.udacity.com/course/deep-reinforcement-learning-nanodegree--nd893) program.\n",
    "\n",
    "### 1. Start the Environment\n",
    "\n",
    "We begin by importing the necessary packages.  If the code cell below returns an error, please revisit the project instructions to double-check that you have installed [Unity ML-Agents](https://github.com/Unity-Technologies/ml-agents/blob/master/docs/Installation.md) and [NumPy](http://www.numpy.org/)."
   ]
  },
  {
   "cell_type": "code",
   "execution_count": 1,
   "metadata": {},
   "outputs": [],
   "source": [
    "from unityagents import UnityEnvironment\n",
    "import numpy as np"
   ]
  },
  {
   "cell_type": "markdown",
   "metadata": {},
   "source": [
    "Next, we will start the environment!  **_Before running the code cell below_**, change the `file_name` parameter to match the location of the Unity environment that you downloaded.\n",
    "\n",
    "- **Mac**: `\"path/to/Reacher.app\"`\n",
    "- **Windows** (x86): `\"path/to/Reacher_Windows_x86/Reacher.exe\"`\n",
    "- **Windows** (x86_64): `\"path/to/Reacher_Windows_x86_64/Reacher.exe\"`\n",
    "- **Linux** (x86): `\"path/to/Reacher_Linux/Reacher.x86\"`\n",
    "- **Linux** (x86_64): `\"path/to/Reacher_Linux/Reacher.x86_64\"`\n",
    "- **Linux** (x86, headless): `\"path/to/Reacher_Linux_NoVis/Reacher.x86\"`\n",
    "- **Linux** (x86_64, headless): `\"path/to/Reacher_Linux_NoVis/Reacher.x86_64\"`\n",
    "\n",
    "For instance, if you are using a Mac, then you downloaded `Reacher.app`.  If this file is in the same folder as the notebook, then the line below should appear as follows:\n",
    "```\n",
    "env = UnityEnvironment(file_name=\"Reacher.app\")\n",
    "```"
   ]
  },
  {
   "cell_type": "code",
   "execution_count": 2,
   "metadata": {},
   "outputs": [
    {
     "name": "stderr",
     "output_type": "stream",
     "text": [
      "INFO:unityagents:\n",
      "'Academy' started successfully!\n",
      "Unity Academy name: Academy\n",
      "        Number of Brains: 1\n",
      "        Number of External Brains : 1\n",
      "        Lesson number : 0\n",
      "        Reset Parameters :\n",
      "\t\tgoal_speed -> 1.0\n",
      "\t\tgoal_size -> 5.0\n",
      "Unity brain name: ReacherBrain\n",
      "        Number of Visual Observations (per agent): 0\n",
      "        Vector Observation space type: continuous\n",
      "        Vector Observation space size (per agent): 33\n",
      "        Number of stacked Vector Observation: 1\n",
      "        Vector Action space type: continuous\n",
      "        Vector Action space size (per agent): 4\n",
      "        Vector Action descriptions: , , , \n"
     ]
    }
   ],
   "source": [
    "env = UnityEnvironment(file_name='./Reacher_Linux/Reacher.x86_64')"
   ]
  },
  {
   "cell_type": "markdown",
   "metadata": {},
   "source": [
    "Environments contain **_brains_** which are responsible for deciding the actions of their associated agents. Here we check for the first brain available, and set it as the default brain we will be controlling from Python."
   ]
  },
  {
   "cell_type": "code",
   "execution_count": 3,
   "metadata": {},
   "outputs": [],
   "source": [
    "# get the default brain\n",
    "brain_name = env.brain_names[0]\n",
    "brain = env.brains[brain_name]"
   ]
  },
  {
   "cell_type": "markdown",
   "metadata": {},
   "source": [
    "### 2. Examine the State and Action Spaces\n",
    "\n",
    "In this environment, a double-jointed arm can move to target locations. A reward of `+0.1` is provided for each step that the agent's hand is in the goal location. Thus, the goal of your agent is to maintain its position at the target location for as many time steps as possible.\n",
    "\n",
    "The observation space consists of `33` variables corresponding to position, rotation, velocity, and angular velocities of the arm.  Each action is a vector with four numbers, corresponding to torque applicable to two joints.  Every entry in the action vector must be a number between `-1` and `1`.\n",
    "\n",
    "Run the code cell below to print some information about the environment."
   ]
  },
  {
   "cell_type": "code",
   "execution_count": 4,
   "metadata": {},
   "outputs": [
    {
     "name": "stdout",
     "output_type": "stream",
     "text": [
      "Number of agents: 20\n",
      "Size of each action: 4\n",
      "There are 20 agents. Each observes a state with length: 33\n",
      "The state for the first agent looks like: [ 0.00000000e+00 -4.00000000e+00  0.00000000e+00  1.00000000e+00\n",
      " -0.00000000e+00 -0.00000000e+00 -4.37113883e-08  0.00000000e+00\n",
      "  0.00000000e+00  0.00000000e+00  0.00000000e+00  0.00000000e+00\n",
      "  0.00000000e+00  0.00000000e+00 -1.00000000e+01  0.00000000e+00\n",
      "  1.00000000e+00 -0.00000000e+00 -0.00000000e+00 -4.37113883e-08\n",
      "  0.00000000e+00  0.00000000e+00  0.00000000e+00  0.00000000e+00\n",
      "  0.00000000e+00  0.00000000e+00  5.75471878e+00 -1.00000000e+00\n",
      "  5.55726624e+00  0.00000000e+00  1.00000000e+00  0.00000000e+00\n",
      " -1.68164849e-01]\n"
     ]
    }
   ],
   "source": [
    "# reset the environment\n",
    "env_info = env.reset(train_mode=True)[brain_name]\n",
    "\n",
    "# number of agents\n",
    "num_agents = len(env_info.agents)\n",
    "print('Number of agents:', num_agents)\n",
    "\n",
    "# size of each action\n",
    "action_size = brain.vector_action_space_size\n",
    "print('Size of each action:', action_size)\n",
    "\n",
    "# examine the state space \n",
    "states = env_info.vector_observations\n",
    "state_size = states.shape[1]\n",
    "print('There are {} agents. Each observes a state with length: {}'.format(states.shape[0], state_size))\n",
    "print('The state for the first agent looks like:', states[0])"
   ]
  },
  {
   "cell_type": "markdown",
   "metadata": {},
   "source": [
    "### 3. Take Random Actions in the Environment\n",
    "\n",
    "In the next code cell, you will learn how to use the Python API to control the agent and receive feedback from the environment.\n",
    "\n",
    "Once this cell is executed, you will watch the agent's performance, if it selects an action at random with each time step.  A window should pop up that allows you to observe the agent, as it moves through the environment.  \n",
    "\n",
    "Of course, as part of the project, you'll have to change the code so that the agent is able to use its experience to gradually choose better actions when interacting with the environment!"
   ]
  },
  {
   "cell_type": "code",
   "execution_count": 5,
   "metadata": {},
   "outputs": [],
   "source": [
    "env_info = env.reset(train_mode=False)[brain_name]     # reset the environment    \n",
    "states = env_info.vector_observations                  # get the current state (for each agent)\n",
    "scores = np.zeros(num_agents)                          # initialize the score (for each agent)\n",
    "# while True:\n",
    "#     actions = np.random.randn(num_agents, action_size) # select an action (for each agent)\n",
    "#     actions = np.clip(actions, -1, 1)                  # all actions between -1 and 1\n",
    "#     env_info = env.step(actions)[brain_name]           # send all actions to tne environment\n",
    "#     next_states = env_info.vector_observations         # get next state (for each agent)\n",
    "#     rewards = env_info.rewards                         # get reward (for each agent)\n",
    "#     dones = env_info.local_done                        # see if episode finished\n",
    "#     scores += env_info.rewards                         # update the score (for each agent)\n",
    "#     states = next_states                               # roll over states to next time step\n",
    "#     if np.any(dones):                                  # exit loop if episode finished\n",
    "#         break\n",
    "# print('Total score (averaged over agents) this episode: {}'.format(np.mean(scores)))"
   ]
  },
  {
   "cell_type": "markdown",
   "metadata": {},
   "source": [
    "When finished, you can close the environment."
   ]
  },
  {
   "cell_type": "code",
   "execution_count": 6,
   "metadata": {},
   "outputs": [],
   "source": [
    "# env.close()"
   ]
  },
  {
   "cell_type": "markdown",
   "metadata": {},
   "source": [
    "### 4. It's Your Turn!\n",
    "\n",
    "Now it's your turn to train your own agent to solve the environment!  When training the environment, set `train_mode=True`, so that the line for resetting the environment looks like the following:\n",
    "```python\n",
    "env_info = env.reset(train_mode=True)[brain_name]\n",
    "```"
   ]
  },
  {
   "cell_type": "code",
   "execution_count": 7,
   "metadata": {},
   "outputs": [],
   "source": [
    "from agent import DDPG_agent\n",
    "import numpy as np\n",
    "import torch\n",
    "\n",
    "from collections import namedtuple, deque"
   ]
  },
  {
   "cell_type": "code",
   "execution_count": 8,
   "metadata": {},
   "outputs": [],
   "source": [
    "agents = DDPG_agent(state_size=state_size, action_size=action_size, num_agents=num_agents, random_seed=0)\n",
    "n_episodes = 1000\n",
    "print_every = 10"
   ]
  },
  {
   "cell_type": "code",
   "execution_count": 9,
   "metadata": {},
   "outputs": [],
   "source": [
    "import time\n",
    "def ddpg(n_episodes=2000, max_t=1000):\n",
    "    scores_deque = deque(maxlen=100)\n",
    "    scores = []\n",
    "    for i_episode in range(1, n_episodes+1):\n",
    "        env_info = env.reset(train_mode=True)[brain_name]\n",
    "        state = env_info.vector_observations\n",
    "        agents.reset()\n",
    "        score = np.zeros(num_agents)\n",
    "        for t in range(max_t):\n",
    "            action = agents.act(state)\n",
    "            env_info = env.step(action)[brain_name]\n",
    "            next_state = env_info.vector_observations\n",
    "            rewards = env_info.rewards\n",
    "            dones = env_info.local_done\n",
    "            agents.step(state, action, rewards, next_state, dones)\n",
    "            state = next_state\n",
    "            score += rewards\n",
    "            if np.any(dones):\n",
    "                print('\\tSteps: ', t)\n",
    "                break \n",
    "        scores_deque.append(np.mean(score))\n",
    "        scores.append(np.mean(score))\n",
    "        print('\\rEpisode {}\\tAverage Score: {:.2f}\\tScore: {:.3f}'.format(i_episode, \n",
    "                                                                          np.mean(scores_deque), \n",
    "                                                                          np.mean(score)))\n",
    "        average_score = np.mean(scores_deque)\n",
    "        if i_episode % print_every == 20 or average_score > 30:\n",
    "            print('\\rEpisode {}\\tAverage Score: {:.2f}'.format(i_episode, average_score))\n",
    "            torch.save(agents.actor_local.state_dict(), 'reacher_checkpoint_actor.pth')\n",
    "            torch.save(agents.critic_local.state_dict(), 'reacher_checkpoint_critic.pth') \n",
    "            if average_score > 30:\n",
    "                break\n",
    "    return scores\n"
   ]
  },
  {
   "cell_type": "code",
   "execution_count": 10,
   "metadata": {},
   "outputs": [
    {
     "name": "stdout",
     "output_type": "stream",
     "text": [
      "Episode 1\tAverage Score: 0.82\tScore: 0.817\n",
      "Episode 2\tAverage Score: 0.72\tScore: 0.622\n",
      "Episode 3\tAverage Score: 0.73\tScore: 0.746\n",
      "Episode 4\tAverage Score: 0.68\tScore: 0.529\n",
      "Episode 5\tAverage Score: 0.65\tScore: 0.539\n",
      "Episode 6\tAverage Score: 0.65\tScore: 0.643\n",
      "Episode 7\tAverage Score: 0.72\tScore: 1.112\n",
      "Episode 8\tAverage Score: 0.74\tScore: 0.936\n",
      "Episode 9\tAverage Score: 0.85\tScore: 1.673\n",
      "Episode 10\tAverage Score: 1.02\tScore: 2.569\n",
      "Episode 11\tAverage Score: 1.18\tScore: 2.828\n",
      "Episode 12\tAverage Score: 1.33\tScore: 2.968\n",
      "Episode 13\tAverage Score: 1.45\tScore: 2.821\n",
      "Episode 14\tAverage Score: 1.60\tScore: 3.634\n",
      "Episode 15\tAverage Score: 1.82\tScore: 4.862\n",
      "Episode 16\tAverage Score: 1.96\tScore: 4.135\n",
      "Episode 17\tAverage Score: 2.06\tScore: 3.593\n",
      "Episode 18\tAverage Score: 2.17\tScore: 3.968\n",
      "Episode 19\tAverage Score: 2.27\tScore: 4.113\n",
      "Episode 20\tAverage Score: 2.40\tScore: 4.857\n",
      "Episode 21\tAverage Score: 2.50\tScore: 4.594\n",
      "Episode 22\tAverage Score: 2.62\tScore: 5.097\n",
      "Episode 23\tAverage Score: 2.85\tScore: 7.794\n",
      "Episode 24\tAverage Score: 3.11\tScore: 9.273\n",
      "Episode 25\tAverage Score: 3.43\tScore: 10.915\n",
      "Episode 26\tAverage Score: 3.84\tScore: 14.234\n",
      "Episode 27\tAverage Score: 4.25\tScore: 14.925\n",
      "Episode 28\tAverage Score: 4.68\tScore: 16.331\n",
      "Episode 29\tAverage Score: 5.17\tScore: 18.681\n",
      "Episode 30\tAverage Score: 5.64\tScore: 19.239\n",
      "Episode 31\tAverage Score: 6.09\tScore: 19.607\n",
      "Episode 32\tAverage Score: 6.60\tScore: 22.621\n",
      "Episode 33\tAverage Score: 7.16\tScore: 24.906\n",
      "Episode 34\tAverage Score: 7.67\tScore: 24.732\n",
      "Episode 35\tAverage Score: 8.21\tScore: 26.596\n",
      "Episode 36\tAverage Score: 8.73\tScore: 26.847\n",
      "Episode 37\tAverage Score: 9.25\tScore: 27.883\n",
      "Episode 38\tAverage Score: 9.77\tScore: 29.102\n",
      "Episode 39\tAverage Score: 10.35\tScore: 32.210\n",
      "Episode 40\tAverage Score: 10.95\tScore: 34.306\n",
      "Episode 41\tAverage Score: 11.52\tScore: 34.640\n",
      "Episode 42\tAverage Score: 12.08\tScore: 34.970\n",
      "Episode 43\tAverage Score: 12.64\tScore: 35.993\n",
      "Episode 44\tAverage Score: 13.19\tScore: 36.711\n",
      "Episode 45\tAverage Score: 13.71\tScore: 36.804\n",
      "Episode 46\tAverage Score: 14.21\tScore: 36.634\n",
      "Episode 47\tAverage Score: 14.71\tScore: 37.777\n",
      "Episode 48\tAverage Score: 15.18\tScore: 37.095\n",
      "Episode 49\tAverage Score: 15.64\tScore: 37.927\n",
      "Episode 50\tAverage Score: 16.09\tScore: 37.919\n",
      "Episode 51\tAverage Score: 16.52\tScore: 38.102\n",
      "Episode 52\tAverage Score: 16.93\tScore: 38.169\n",
      "Episode 53\tAverage Score: 17.33\tScore: 37.807\n",
      "Episode 54\tAverage Score: 17.71\tScore: 37.926\n",
      "Episode 55\tAverage Score: 18.08\tScore: 38.031\n",
      "Episode 56\tAverage Score: 18.43\tScore: 37.747\n",
      "Episode 57\tAverage Score: 18.77\tScore: 37.979\n",
      "Episode 58\tAverage Score: 19.11\tScore: 38.141\n",
      "Episode 59\tAverage Score: 19.43\tScore: 37.983\n",
      "Episode 60\tAverage Score: 19.73\tScore: 37.723\n",
      "Episode 61\tAverage Score: 20.03\tScore: 37.688\n",
      "Episode 62\tAverage Score: 20.31\tScore: 37.331\n",
      "Episode 63\tAverage Score: 20.58\tScore: 37.336\n",
      "Episode 64\tAverage Score: 20.84\tScore: 37.334\n",
      "Episode 65\tAverage Score: 21.09\tScore: 37.117\n",
      "Episode 66\tAverage Score: 21.33\tScore: 37.224\n",
      "Episode 67\tAverage Score: 21.58\tScore: 38.003\n",
      "Episode 68\tAverage Score: 21.82\tScore: 37.678\n",
      "Episode 69\tAverage Score: 22.05\tScore: 37.689\n",
      "Episode 70\tAverage Score: 22.28\tScore: 38.110\n",
      "Episode 71\tAverage Score: 22.49\tScore: 37.442\n",
      "Episode 72\tAverage Score: 22.71\tScore: 38.171\n",
      "Episode 73\tAverage Score: 22.92\tScore: 37.831\n",
      "Episode 74\tAverage Score: 23.11\tScore: 37.399\n",
      "Episode 75\tAverage Score: 23.31\tScore: 37.641\n",
      "Episode 76\tAverage Score: 23.48\tScore: 36.598\n",
      "Episode 77\tAverage Score: 23.66\tScore: 37.652\n",
      "Episode 78\tAverage Score: 23.84\tScore: 37.406\n",
      "Episode 79\tAverage Score: 24.02\tScore: 38.107\n",
      "Episode 80\tAverage Score: 24.20\tScore: 38.149\n",
      "Episode 81\tAverage Score: 24.36\tScore: 37.607\n",
      "Episode 82\tAverage Score: 24.52\tScore: 37.444\n",
      "Episode 83\tAverage Score: 24.68\tScore: 37.739\n",
      "Episode 84\tAverage Score: 24.83\tScore: 37.386\n",
      "Episode 85\tAverage Score: 24.98\tScore: 37.375\n",
      "Episode 86\tAverage Score: 25.13\tScore: 37.673\n",
      "Episode 87\tAverage Score: 25.27\tScore: 37.436\n",
      "Episode 88\tAverage Score: 25.42\tScore: 38.216\n",
      "Episode 89\tAverage Score: 25.56\tScore: 37.836\n",
      "Episode 90\tAverage Score: 25.68\tScore: 37.010\n",
      "Episode 91\tAverage Score: 25.82\tScore: 37.947\n",
      "Episode 92\tAverage Score: 25.95\tScore: 38.103\n",
      "Episode 93\tAverage Score: 26.08\tScore: 37.823\n",
      "Episode 94\tAverage Score: 26.20\tScore: 37.783\n",
      "Episode 95\tAverage Score: 26.32\tScore: 37.070\n",
      "Episode 96\tAverage Score: 26.43\tScore: 37.163\n",
      "Episode 97\tAverage Score: 26.55\tScore: 37.658\n",
      "Episode 98\tAverage Score: 26.66\tScore: 37.955\n",
      "Episode 99\tAverage Score: 26.78\tScore: 38.207\n",
      "Episode 100\tAverage Score: 26.89\tScore: 37.861\n",
      "Episode 101\tAverage Score: 27.26\tScore: 37.472\n",
      "Episode 102\tAverage Score: 27.63\tScore: 38.109\n",
      "Episode 103\tAverage Score: 28.00\tScore: 37.119\n",
      "Episode 104\tAverage Score: 28.37\tScore: 38.001\n",
      "Episode 105\tAverage Score: 28.74\tScore: 37.848\n",
      "Episode 106\tAverage Score: 29.11\tScore: 37.299\n",
      "Episode 107\tAverage Score: 29.48\tScore: 37.981\n",
      "Episode 108\tAverage Score: 29.85\tScore: 37.737\n",
      "Episode 109\tAverage Score: 30.21\tScore: 37.599\n",
      "Episode 109\tAverage Score: 30.21\n"
     ]
    }
   ],
   "source": [
    "score = ddpg()"
   ]
  },
  {
   "cell_type": "code",
   "execution_count": 11,
   "metadata": {},
   "outputs": [
    {
     "data": {
      "text/plain": [
       "<Figure size 640x480 with 1 Axes>"
      ]
     },
     "metadata": {},
     "output_type": "display_data"
    }
   ],
   "source": [
    "import matplotlib.pyplot as plt\n",
    "fig = plt.figure()\n",
    "ax = fig.add_subplot(111)\n",
    "plt.plot(np.arange(1, len(score)+1), score)\n",
    "plt.ylabel('Score')\n",
    "plt.xlabel('Episode #')\n",
    "plt.show()"
   ]
  },
  {
   "cell_type": "code",
   "execution_count": 12,
   "metadata": {},
   "outputs": [],
   "source": [
    "agents.actor_local.load_state_dict(torch.load('reacher_checkpoint_actor.pth', map_location='cpu'))\n",
    "agents.critic_local.load_state_dict(torch.load('reacher_checkpoint_critic.pth', map_location='cpu'))\n",
    "\n",
    "env_info = env.reset(train_mode=False)[brain_name]        \n",
    "states = env_info.vector_observations                  \n",
    "scores = np.zeros(num_agents)                          \n",
    "\n",
    "for i in range(200):\n",
    "    actions = agents.act(states, add_noise=False)                    \n",
    "    env_info = env.step(actions)[brain_name]        \n",
    "    next_states = env_info.vector_observations        \n",
    "    rewards = env_info.rewards                        \n",
    "    dones = env_info.local_done                 \n",
    "    scores += rewards                         \n",
    "    states = next_states                              \n",
    "    if np.any(dones):                              \n",
    "        break"
   ]
  },
  {
   "cell_type": "code",
   "execution_count": 13,
   "metadata": {},
   "outputs": [],
   "source": [
    "env.close()"
   ]
  },
  {
   "cell_type": "code",
   "execution_count": null,
   "metadata": {},
   "outputs": [],
   "source": []
  }
 ],
 "metadata": {
  "kernelspec": {
   "display_name": "Python 3",
   "language": "python",
   "name": "python3"
  },
  "language_info": {
   "codemirror_mode": {
    "name": "ipython",
    "version": 3
   },
   "file_extension": ".py",
   "mimetype": "text/x-python",
   "name": "python",
   "nbconvert_exporter": "python",
   "pygments_lexer": "ipython3",
   "version": "3.6.9"
  }
 },
 "nbformat": 4,
 "nbformat_minor": 2
}
